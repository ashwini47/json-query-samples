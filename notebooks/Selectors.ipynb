{
 "cells": [
  {
   "cell_type": "markdown",
   "id": "2943cc3d-7e9f-4527-888f-8a687fdb662a",
   "metadata": {},
   "source": [
    "<H1>JSON Query examples - Selectors "
   ]
  },
  {
   "cell_type": "code",
   "execution_count": 38,
   "id": "2ee00fdd-599c-46b1-a84a-879c752961e4",
   "metadata": {},
   "outputs": [
    {
     "name": "stdout",
     "output_type": "stream",
     "text": [
      "{'age': 30, 'other': 'foo', 'name': 'Bob'}\n"
     ]
    }
   ],
   "source": [
    "#Sample data for Cake ingredients \n",
    "CakeOptions={\n",
    "\t\"id\": \"0001\",\n",
    "\t\"type\": \"donut\",\n",
    "\t\"name\": \"Cake\",\n",
    "\t\"ppu\": 0.55,\n",
    "\t\"batters\":\n",
    "\t\t{\n",
    "\t\t\t\"batter\":\n",
    "\t\t\t\t[\n",
    "\t\t\t\t\t{ \"id\": \"1001\", \"type\": \"Regular\" },\n",
    "\t\t\t\t\t{ \"id\": \"1002\", \"type\": \"Chocolate\" },\n",
    "\t\t\t\t\t{ \"id\": \"1003\", \"type\": \"Blueberry\" },\n",
    "\t\t\t\t\t{ \"id\": \"1004\", \"type\": \"Devil's Food\" }\n",
    "\t\t\t\t]\n",
    "\t\t},\n",
    "\t\"topping\":\n",
    "\t\t[\n",
    "\t\t\t{ \"id\": \"5001\", \"type\": \"None\" },\n",
    "\t\t\t{ \"id\": \"5002\", \"type\": \"Glazed\" },\n",
    "\t\t\t{ \"id\": \"5005\", \"type\": \"Sugar\" },\n",
    "\t\t\t{ \"id\": \"5007\", \"type\": \"Powdered Sugar\" },\n",
    "\t\t\t{ \"id\": \"5006\", \"type\": \"Chocolate with Sprinkles\" },\n",
    "\t\t\t{ \"id\": \"5003\", \"type\": \"Chocolate\" },\n",
    "\t\t\t{ \"id\": \"5004\", \"type\": \"Maple\" }\n",
    "\t\t]\n",
    "}"
   ]
  },
  {
   "cell_type": "code",
   "execution_count": 17,
   "id": "3acdf7f9-6f97-4280-8e26-1617d3f177a0",
   "metadata": {},
   "outputs": [],
   "source": [
    "import jmespath"
   ]
  },
  {
   "cell_type": "code",
   "execution_count": 50,
   "id": "9e901ce3-bfbd-4720-868c-fc21693dd50f",
   "metadata": {},
   "outputs": [
    {
     "data": {
      "text/plain": [
       "'0001'"
      ]
     },
     "execution_count": 50,
     "metadata": {},
     "output_type": "execute_result"
    }
   ],
   "source": [
    "#select a single value from an object \n",
    "jmespath.search(\"id\",CakeOptions )"
   ]
  },
  {
   "cell_type": "code",
   "execution_count": 58,
   "id": "2429b3ff-84d5-4bf3-b424-bd743fe0207f",
   "metadata": {},
   "outputs": [
    {
     "name": "stdout",
     "output_type": "stream",
     "text": [
      "{'myid': '0001', 'myname': 'Cake'}\n"
     ]
    }
   ],
   "source": [
    "#MultiSelect Hash\n",
    "#select a Multiple value from an object and return as an object\n",
    "print(jmespath.search(\"{myid:id,myname:name}\",CakeOptions ))"
   ]
  },
  {
   "cell_type": "code",
   "execution_count": 69,
   "id": "16d3132a-04a6-45b1-bd74-f62f2b07f0db",
   "metadata": {},
   "outputs": [
    {
     "name": "stdout",
     "output_type": "stream",
     "text": [
      "['0001', 'Cake']\n"
     ]
    }
   ],
   "source": [
    "#MultiSelect List\n",
    "#select a Multiple value from an object and return as list\n",
    "print(jmespath.search(\"[id,name]\",CakeOptions ))"
   ]
  },
  {
   "cell_type": "code",
   "execution_count": 70,
   "id": "537fd593-ec3e-4b8c-9933-31c29f179b8a",
   "metadata": {},
   "outputs": [
    {
     "name": "stdout",
     "output_type": "stream",
     "text": [
      "1 {'myid': '0001', 'topping1': 'Regular'}\n",
      "2 {'myid': '0001', 'topping1': {'id': '1001', 'type': 'Regular'}}\n",
      "3 {'myid': '0001', 'topping1': 'Regular'}\n",
      "4 {'myid': '0001', 'topping1': ['Regular', 'Chocolate', 'Blueberry', \"Devil's Food\"]}\n"
     ]
    }
   ],
   "source": [
    "#Nested Selection\n",
    "#select a nested value from an object and return as an object\n",
    "print(1,jmespath.search(\"{myid:id,topping1:batters.batter[0].type}\",CakeOptions ))\n",
    "print(2,jmespath.search(\"{myid:id,topping1:batters.batter[0]}\",CakeOptions ))\n",
    "print(3,jmespath.search(\"{myid:id,topping1:batters.batter[0].type}\",CakeOptions ))\n",
    "print(4,jmespath.search(\"{myid:id,topping1:batters.batter[*].type}\",CakeOptions ))"
   ]
  },
  {
   "cell_type": "code",
   "execution_count": 78,
   "id": "ee78214d-54f3-469b-a3e3-e3fe0a995035",
   "metadata": {},
   "outputs": [
    {
     "name": "stdout",
     "output_type": "stream",
     "text": [
      "1 {'BatterList': {'type': 'Chocolate', 'id': '1002'}}\n"
     ]
    }
   ],
   "source": [
    "#Select n`t element from object array \n",
    "print(1,jmespath.search(\"{BatterList:batters.batter[1].{type:type,id:id}}\",CakeOptions ))"
   ]
  },
  {
   "cell_type": "code",
   "execution_count": 77,
   "id": "a0200034-0af4-4695-8e67-b45b71236abb",
   "metadata": {},
   "outputs": [
    {
     "name": "stdout",
     "output_type": "stream",
     "text": [
      "1 ['Regular', 'Chocolate', 'Blueberry', \"Devil's Food\"]\n",
      "1 {'BatterList': ['Regular', 'Chocolate', 'Blueberry', \"Devil's Food\"]}\n",
      "1 {'BatterList': [{'type': 'Regular', 'id': '1001'}, {'type': 'Chocolate', 'id': '1002'}, {'type': 'Blueberry', 'id': '1003'}, {'type': \"Devil's Food\", 'id': '1004'}]}\n"
     ]
    }
   ],
   "source": [
    "#Wildcard (*) Selection (works on array of objects)\n",
    "#select an attribute from array of objects\n",
    "print(1,jmespath.search(\"batters.batter[*].type\",CakeOptions ))\n",
    "print(1,jmespath.search(\"{BatterList:batters.batter[*].type}\",CakeOptions ))\n",
    "print(1,jmespath.search(\"{BatterList:batters.batter[*].{type:type,id:id}}\",CakeOptions ))"
   ]
  },
  {
   "cell_type": "code",
   "execution_count": 92,
   "id": "5f1e97b2-0707-43ef-ad4d-2396fed2bf82",
   "metadata": {},
   "outputs": [
    {
     "data": {
      "text/plain": [
       "[1, 2]"
      ]
     },
     "execution_count": 92,
     "metadata": {},
     "output_type": "execute_result"
    }
   ],
   "source": [
    "#Wildcard (*) Selection hash or object \n",
    "#select all the  attribute from nested child objects\n",
    "data={\"a\": {\"foo\": 1}, \"b\": {\"foo\": 2}, \"c\": {\"bar\": 1,\"tt\":{\"foo\":100}}} # note it does not select 100 \n",
    "jmespath.search('*.foo',data ) "
   ]
  },
  {
   "cell_type": "code",
   "execution_count": 68,
   "id": "4962111b-c923-41e9-b363-2034c18d04b1",
   "metadata": {},
   "outputs": [
    {
     "name": "stdout",
     "output_type": "stream",
     "text": [
      "1 {'id': '0001', 'type': 'donut', 'name': 'Cake', 'ppu': 0.55, 'batters': {'batter': [{'id': '1001', 'type': 'Regular'}, {'id': '1002', 'type': 'Chocolate'}, {'id': '1003', 'type': 'Blueberry'}, {'id': '1004', 'type': \"Devil's Food\"}]}, 'topping': [{'id': '5001', 'type': 'None'}, {'id': '5002', 'type': 'Glazed'}, {'id': '5005', 'type': 'Sugar'}, {'id': '5007', 'type': 'Powdered Sugar'}, {'id': '5006', 'type': 'Chocolate with Sprinkles'}, {'id': '5003', 'type': 'Chocolate'}, {'id': '5004', 'type': 'Maple'}]}\n"
     ]
    }
   ],
   "source": [
    "#select current node (\"@\") can be used for building complex expressions\n",
    "print(1,jmespath.search(\"@\",CakeOptions ))"
   ]
  },
  {
   "cell_type": "code",
   "execution_count": 101,
   "id": "4f55ef03-b568-409b-b9ba-a7f82de5ea70",
   "metadata": {},
   "outputs": [
    {
     "name": "stdout",
     "output_type": "stream",
     "text": [
      "6\n"
     ]
    }
   ],
   "source": [
    "#select first child node \n",
    "print(jmespath.search(\"length(@)\",CakeOptions ))"
   ]
  },
  {
   "cell_type": "code",
   "execution_count": null,
   "id": "9020b59b-1450-43ec-8485-64c3d25b2e45",
   "metadata": {},
   "outputs": [],
   "source": []
  },
  {
   "cell_type": "code",
   "execution_count": null,
   "id": "68db25b4-bb57-4c5d-a8d3-fb37d7747f2f",
   "metadata": {},
   "outputs": [],
   "source": []
  }
 ],
 "metadata": {
  "kernelspec": {
   "display_name": "Python 3 (ipykernel)",
   "language": "python",
   "name": "python3"
  },
  "language_info": {
   "codemirror_mode": {
    "name": "ipython",
    "version": 3
   },
   "file_extension": ".py",
   "mimetype": "text/x-python",
   "name": "python",
   "nbconvert_exporter": "python",
   "pygments_lexer": "ipython3",
   "version": "3.10.13"
  }
 },
 "nbformat": 4,
 "nbformat_minor": 5
}
